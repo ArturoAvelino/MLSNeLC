{
 "cells": [
  {
   "cell_type": "markdown",
   "metadata": {},
   "source": [
    "# Extract features from GP LCs\n",
    "\n",
    "Python 3.7"
   ]
  },
  {
   "cell_type": "code",
   "execution_count": 1,
   "metadata": {},
   "outputs": [],
   "source": [
    "import numpy as np\n",
    "import pandas as pd\n",
    "import matplotlib.pyplot as plt\n",
    "import seaborn as sbn\n",
    "import datetime # Get the current date and time\n",
    "\n",
    "#--------------------------------------------------------60\n",
    "code_created_by = 'Arturo_Avelino'\n",
    "# On date: 2019.06.25 (yyyy.mm.dd)\n",
    "code_name = 'ExtractFeaturesFrom_GP_LCs.ipynb'\n",
    "code_version = '0.0.2'\n",
    "code_last_update = '2019.06.25'"
   ]
  },
  {
   "cell_type": "code",
   "execution_count": 2,
   "metadata": {},
   "outputs": [],
   "source": [
    "##############################################################################80"
   ]
  },
  {
   "cell_type": "markdown",
   "metadata": {},
   "source": [
    "-----"
   ]
  },
  {
   "cell_type": "markdown",
   "metadata": {},
   "source": [
    "# Functions"
   ]
  },
  {
   "cell_type": "code",
   "execution_count": 3,
   "metadata": {},
   "outputs": [
    {
     "name": "stdout",
     "output_type": "stream",
     "text": [
      "0.0\n",
      "70\n"
     ]
    }
   ],
   "source": [
    "shiftNum = 70\n",
    "    \n",
    "#- Function to convert from numpy index to days (phase).\n",
    "def index2day(index):\n",
    "    day = (index-shiftNum)/2.\n",
    "    return day\n",
    "\n",
    "#- Function to convert from days (phase) to numpy index.\n",
    "def day2index(day):\n",
    "    index = 2*day + shiftNum\n",
    "    return index\n",
    "\n",
    "print(index2day(70))\n",
    "print(day2index(0))"
   ]
  },
  {
   "cell_type": "markdown",
   "metadata": {},
   "source": [
    "Function to identify string or number:"
   ]
  },
  {
   "cell_type": "code",
   "execution_count": 4,
   "metadata": {},
   "outputs": [
    {
     "name": "stdout",
     "output_type": "stream",
     "text": [
      "True False\n"
     ]
    }
   ],
   "source": [
    "# Function to identify if a string is an integer number or a letter.\n",
    "# This will be used in the dictionary construction to properly read some SN names.\n",
    "\n",
    "def is_number(s):\n",
    "    try:\n",
    "        int(s)\n",
    "        return True\n",
    "    except ValueError:\n",
    "        return False\n",
    "\n",
    "# Tests\n",
    "print(is_number('5'), is_number('e'))\n",
    "# True False"
   ]
  },
  {
   "cell_type": "code",
   "execution_count": 5,
   "metadata": {},
   "outputs": [],
   "source": [
    "# Define the name of the SNe:\n",
    "\n",
    "def sn_name(sn_filename):\n",
    "    \n",
    "    # To read correctly, e.g., \"sn2011B\":\n",
    "    if sn_filename[7] == '_': sn_name = sn_filename[:7]\n",
    "\n",
    "    elif sn_filename[7] != '_':\n",
    "\n",
    "        # To read correctly, e.g., \"snf20080514-002\":\n",
    "        if is_number(sn_filename[7]): sn_name = sn_filename[:15] \n",
    "\n",
    "        # To read correctly, e.g., \"sn1998bu\" \n",
    "        else: sn_name = sn_filename[:8]  \n",
    "            \n",
    "    return sn_name"
   ]
  },
  {
   "cell_type": "code",
   "execution_count": null,
   "metadata": {},
   "outputs": [],
   "source": [
    "##############################################################################80"
   ]
  },
  {
   "cell_type": "markdown",
   "metadata": {},
   "source": [
    "----"
   ]
  },
  {
   "cell_type": "markdown",
   "metadata": {},
   "source": [
    "# Create a single file containing the features data from all the SNe"
   ]
  },
  {
   "cell_type": "code",
   "execution_count": 7,
   "metadata": {},
   "outputs": [],
   "source": [
    "filename = 'list_SNe.txt'\n",
    "dirfile = '/Users/arturo/Dropbox/Research/Statistics/ML/Projects/RAISIN_ML/data/data_PCA/'\n",
    "\n",
    "list_sne = np.genfromtxt(dirfile+filename, dtype=['S60'])"
   ]
  },
  {
   "cell_type": "code",
   "execution_count": 8,
   "metadata": {},
   "outputs": [
    {
     "data": {
      "text/plain": [
       "array([(b'sn1999ee__U_45_B_1_CSP_J_GP_mean_sigma_Filled_norma.dat',),\n",
       "       (b'sn2001bt__B_22_V_2_Others_J_GP_mean_sigma_Filled_norma.dat',),\n",
       "       (b'sn2001cz__B_14_V_1_Others_J_GP_mean_sigma_Filled_norma.dat',)],\n",
       "      dtype=[('f0', 'S60')])"
      ]
     },
     "execution_count": 8,
     "metadata": {},
     "output_type": "execute_result"
    }
   ],
   "source": [
    "list_sne[:3]"
   ]
  },
  {
   "cell_type": "code",
   "execution_count": 9,
   "metadata": {},
   "outputs": [
    {
     "data": {
      "text/plain": [
       "str"
      ]
     },
     "execution_count": 9,
     "metadata": {},
     "output_type": "execute_result"
    }
   ],
   "source": [
    "type(str(list_sne['f0'][0]))"
   ]
  },
  {
   "cell_type": "markdown",
   "metadata": {},
   "source": [
    "### Loop to read and extract the values of interest"
   ]
  },
  {
   "cell_type": "code",
   "execution_count": 21,
   "metadata": {},
   "outputs": [
    {
     "name": "stdout",
     "output_type": "stream",
     "text": [
      "sn1999ee__U_45_B_1_CSP_J_GP_mean_sigma_Filled_norma.dat\n",
      "sn2001bt__B_22_V_2_Others_J_GP_mean_sigma_Filled_norma.dat\n",
      "sn2001cz__B_14_V_1_Others_J_GP_mean_sigma_Filled_norma.dat\n",
      "sn2001el__U_20_B_4_Others_J_GP_mean_sigma_Filled_norma.dat\n",
      "sn2002dj__U_13_B_1_Others_J_GP_mean_sigma_Filled_norma.dat\n",
      "sn2005el__U_55_B_3_CfA_J_GP_mean_sigma_Filled_norma.dat\n",
      "sn2005el_dummytext_CSP_J_GP_mean_sigma_Filled_norma.dat\n",
      "sn2005eq__U_22_B_2_CfA_J_GP_mean_sigma_Filled_norma.dat\n",
      "sn2005eq_dummytext_CSP_J_GP_mean_sigma_Filled_norma.dat\n",
      "sn2005eu__B_16_V_2_CfA_J_GP_mean_sigma_Filled_norma.dat\n",
      "sn2005ki_dummytext_CSP_J_GP_mean_sigma_Filled_norma.dat\n",
      "sn2006ax_dummytext_CSP_J_GP_mean_sigma_Filled_norma.dat\n",
      "sn2006bh_dummytext_CSP_J_GP_mean_sigma_Filled_norma.dat\n",
      "sn2006D__U_24_B_22_CfA_J_GP_mean_sigma_Filled_norma.dat\n",
      "sn2006et_dummytext_CSP_J_GP_mean_sigma_Filled_norma.dat\n",
      "sn2006kf_dummytext_CSP_J_GP_mean_sigma_Filled_norma.dat\n",
      "sn2006le__U_36_B_3_CfA_J_GP_mean_sigma_Filled_norma.dat\n",
      "sn2006lf__U_3_B_24_CfA_J_GP_mean_sigma_Filled_norma.dat\n",
      "sn2007af_dummytext_CSP_J_GP_mean_sigma_Filled_norma.dat\n",
      "sn2007as_dummytext_CSP_J_GP_mean_sigma_Filled_norma.dat\n",
      "sn2007le__B_19_V_2_CfA_J_GP_mean_sigma_Filled_norma.dat\n",
      "sn2007le_dummytext_CSP_J_GP_mean_sigma_Filled_norma.dat\n",
      "sn2008fv__B_10_V_1_Others_J_GP_mean_sigma_Filled_norma.dat\n",
      "sn2008gp_dummytext_CSP_J_GP_mean_sigma_Filled_norma.dat\n",
      "sn2008hv_dummytext_CSP_J_GP_mean_sigma_Filled_norma.dat\n",
      "sn2008Z__U_12_B_24_CfA_J_GP_mean_sigma_Filled_norma.dat\n",
      "sn2009aa_dummytext_CSP_J_GP_mean_sigma_Filled_norma.dat\n",
      "sn2009ag_dummytext_CSP_J_GP_mean_sigma_Filled_norma.dat\n",
      "sn2009an__u_prime__CfA_J_GP_mean_sigma_Filled_norma.dat\n",
      "sn2009Y_dummytext__CSP_J_GP_mean_sigma_Filled_norma.dat\n",
      "sn2011ao__B_16_V_3_CfA_J_GP_mean_sigma_Filled_norma.dat\n",
      "sn2011by__B_38_V_2_CfA_J_GP_mean_sigma_Filled_norma.dat\n",
      "\n",
      "# ---- 32 SNe written ----\n"
     ]
    }
   ],
   "source": [
    "# Days (epochs) to extract the features:\n",
    "days = [0, 5, 10, 15, 20, 25, 30]\n",
    "\n",
    "#---------------------------------------------------------60\n",
    "#     Create the text file\n",
    "\n",
    "textfile_1 = open(dirfile+'lc_features.dat', 'w')\n",
    "textfile_1.write('# LC features \\n')\n",
    "\n",
    "# Define the header text\n",
    "now = datetime.datetime.now() # Read the time and date right now\n",
    "text_timenow = now.strftime(\"%Y.%m.%d (yyyy.mm.dd); %H:%M hrs.\")\n",
    "text_Date   = '# On date: %s\\n'%text_timenow\n",
    "text_Author = '# Data table created by: %s\\n'%code_created_by\n",
    "text_script = '# Script used: %s (version %s | last update: %s)\\n'%(\n",
    "    code_name, code_version, code_last_update)\n",
    "text_line = '#'+'-'*57 + '60\\n'\n",
    "\n",
    "# Write the header text\n",
    "textfile_1.write(text_line);\n",
    "textfile_1.write(text_Author); textfile_1.write(text_Date); textfile_1.write(text_script);\n",
    "textfile_1.write(text_line);\n",
    "\n",
    "textfile_1.write('#                                               PHASE (days)\\n')\n",
    "textfile_1.write('# sn_name,                     0,       5,        \\\n",
    "10,       15,       20,       25,       30\\n')\n",
    "    \n",
    "#---------------------------------------------------------60\n",
    "\n",
    "count_sn_good = 0\n",
    "\n",
    "for i1 in range(len(list_sne)):\n",
    "\n",
    "    # Read the file name:\n",
    "    sn_filename = str(list_sne['f0'][i1])[2:-1]\n",
    "    print(sn_filename)\n",
    "    \n",
    "    # Upload the data:\n",
    "    GP_data = np.genfromtxt(dirfile+sn_filename)\n",
    "    \n",
    "    # Read the features of interest\n",
    "    feat_0  = GP_data[day2index(days[0])][1]\n",
    "    feat_1  = GP_data[day2index(days[1])][1]\n",
    "    feat_2  = GP_data[day2index(days[2])][1]\n",
    "    feat_3  = GP_data[day2index(days[3])][1]\n",
    "    feat_4  = GP_data[day2index(days[4])][1]\n",
    "    feat_5  = GP_data[day2index(days[5])][1]\n",
    "    feat_6  = GP_data[day2index(days[6])][1]\n",
    "    # feat_7  = GP_data[day2index(days[7])][1]\n",
    "    # feat_8  = GP_data[day2index(days[8])][1]\n",
    "    # feat_9  = GP_data[day2index(days[9])][1]\n",
    "    # feat_10 = GP_data[day2index(days[10])][1]\n",
    "    # feat_11 = GP_data[day2index(days[11])][1]\n",
    "    # feat_12 = GP_data[day2index(days[12])][1]\n",
    "    # feat_13 = GP_data[day2index(days[13])][1]\n",
    "    # feat_14 = GP_data[day2index(days[14])][1]\n",
    "    # feat_15 = GP_data[day2index(days[15])][1]\n",
    "    # feat_16 = GP_data[day2index(days[16])][1]\n",
    "    # feat_17 = GP_data[day2index(days[17])][1]\n",
    "    # feat_18 = GP_data[day2index(days[18])][1]\n",
    "    # feat_19 = GP_data[day2index(days[19])][1]\n",
    "    # feat_20 = GP_data[day2index(days[20])][1]\n",
    "    # feat_21 = GP_data[day2index(days[21])][1]\n",
    "    # feat_22 = GP_data[day2index(days[22])][1]\n",
    "    # feat_23 = GP_data[day2index(days[23])][1]\n",
    "    # feat_24 = GP_data[day2index(days[24])][1]\n",
    "    # feat_25 = GP_data[day2index(days[25])][1]\n",
    "    # feat_26 = GP_data[day2index(days[26])][1]\n",
    "    # feat_27 = GP_data[day2index(days[27])][1]\n",
    "    # feat_28 = GP_data[day2index(days[28])][1]\n",
    "    # feat_29 = GP_data[day2index(days[29])][1]\n",
    "    \n",
    "    \n",
    "    #---------------------------------------------------------\n",
    "    # WRITE THE DATA IN THE TEXT FILE\n",
    "    \n",
    "\n",
    "    # Write the data\n",
    "    textfile_1.write('%-24s, %8.4f, %8.4f, %8.4f, %8.4f, %8.4f, %8.4f, %8.4f\\n'%(\n",
    "        sn_filename[:22], feat_0, feat_1, feat_2, feat_3, feat_4, feat_5, feat_6))\n",
    "    \n",
    "    count_sn_good += 1\n",
    "\n",
    "#---------------------------------------------------------60\n",
    "textfile_1.close()\n",
    "print('\\n# ---- %s SNe written ----'%count_sn_good)"
   ]
  },
  {
   "cell_type": "code",
   "execution_count": 22,
   "metadata": {},
   "outputs": [],
   "source": [
    "textfile_1.close(); textfile_1.close(); textfile_1.close();"
   ]
  },
  {
   "cell_type": "code",
   "execution_count": null,
   "metadata": {},
   "outputs": [],
   "source": []
  },
  {
   "cell_type": "code",
   "execution_count": null,
   "metadata": {},
   "outputs": [],
   "source": []
  },
  {
   "cell_type": "code",
   "execution_count": null,
   "metadata": {},
   "outputs": [],
   "source": []
  },
  {
   "cell_type": "code",
   "execution_count": null,
   "metadata": {},
   "outputs": [],
   "source": []
  },
  {
   "cell_type": "code",
   "execution_count": null,
   "metadata": {},
   "outputs": [],
   "source": []
  },
  {
   "cell_type": "code",
   "execution_count": null,
   "metadata": {},
   "outputs": [],
   "source": []
  },
  {
   "cell_type": "code",
   "execution_count": null,
   "metadata": {},
   "outputs": [],
   "source": []
  },
  {
   "cell_type": "code",
   "execution_count": null,
   "metadata": {},
   "outputs": [],
   "source": []
  },
  {
   "cell_type": "code",
   "execution_count": null,
   "metadata": {},
   "outputs": [],
   "source": []
  }
 ],
 "metadata": {
  "kernelspec": {
   "display_name": "Python 3",
   "language": "python",
   "name": "python3"
  },
  "language_info": {
   "codemirror_mode": {
    "name": "ipython",
    "version": 3
   },
   "file_extension": ".py",
   "mimetype": "text/x-python",
   "name": "python",
   "nbconvert_exporter": "python",
   "pygments_lexer": "ipython3",
   "version": "3.7.1"
  }
 },
 "nbformat": 4,
 "nbformat_minor": 2
}
