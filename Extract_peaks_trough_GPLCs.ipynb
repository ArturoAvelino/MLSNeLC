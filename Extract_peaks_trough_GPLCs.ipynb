{
 "cells": [
  {
   "cell_type": "markdown",
   "metadata": {},
   "source": [
    "# Create a file with the peaks and trough from all the GP LCs\n",
    "\n",
    "Python 3.7"
   ]
  },
  {
   "cell_type": "code",
   "execution_count": 1,
   "metadata": {},
   "outputs": [
    {
     "name": "stdout",
     "output_type": "stream",
     "text": [
      "/Users/arturo/Dropbox/Research/Codes_Mains/Python/MyFunctions/github/MyPyFuns/SNeIa\n",
      "/Users/arturo/Dropbox/Research/Statistics/ML/Projects/RAISIN_ML/Codes/github/MLSNeLC\n"
     ]
    }
   ],
   "source": [
    "import numpy as np\n",
    "import pandas as pd\n",
    "import matplotlib.pyplot as plt\n",
    "import seaborn as sbn\n",
    "import datetime # Get the current date and time\n",
    "\n",
    "#--------------------------------------------------------60\n",
    "# Import my functions\n",
    "\n",
    "%cd /Users/arturo/Dropbox/Research/Codes_Mains/Python/MyFunctions/github/MyPyFuns/SNeIa\n",
    "\n",
    "import mytoolsSNe\n",
    "\n",
    "# Go back where this notebook is located:\n",
    "%cd /Users/arturo/Dropbox/Research/Statistics/ML/Projects/RAISIN_ML/Codes/github/MLSNeLC\n",
    "\n",
    "#--------------------------------------------------------60\n",
    "code_created_by = 'Arturo_Avelino'\n",
    "# On date: 2019.06.25 (yyyy.mm.dd)\n",
    "code_name = 'Extract_peaks_trough_GPLCs.ipynb'\n",
    "code_version = '0.0.8'\n",
    "code_last_update = '2019.06.29'"
   ]
  },
  {
   "cell_type": "code",
   "execution_count": 2,
   "metadata": {},
   "outputs": [],
   "source": [
    "# mytoolsSNe.index2day(70)"
   ]
  },
  {
   "cell_type": "code",
   "execution_count": 3,
   "metadata": {},
   "outputs": [],
   "source": [
    "# mytoolsSNe.is_number('5')"
   ]
  },
  {
   "cell_type": "code",
   "execution_count": 4,
   "metadata": {},
   "outputs": [],
   "source": [
    "# mytoolsSNe.sn_name('sn1999ee__U_45_B_1_CSP_J_GP_mean_sigma_Filled_norma.dat')"
   ]
  },
  {
   "cell_type": "code",
   "execution_count": 5,
   "metadata": {},
   "outputs": [],
   "source": [
    "##############################################################################80"
   ]
  },
  {
   "cell_type": "markdown",
   "metadata": {},
   "source": [
    "### USER"
   ]
  },
  {
   "cell_type": "code",
   "execution_count": 6,
   "metadata": {},
   "outputs": [],
   "source": [
    "\n",
    " # info to just write in the output text file\n",
    "band = 'J'\n",
    "\n",
    "#---------------------------------------------------------60\n",
    "\n",
    "# List with the name of the SNe to extract their features\n",
    "filename = 'list_SNe.txt'\n",
    "\n",
    "# Location of 'filename' and also of the GP LC files.\n",
    "dirfile = '/Users/arturo/Dropbox/Research/Statistics/ML/Projects/RAISIN_ML/data/data_PCA/'\n",
    "\n",
    "list_sne = np.genfromtxt(dirfile+filename, dtype=['S60'])\n",
    "\n",
    "#---------------------------------------------------------60\n",
    "\n",
    "dir_save_output = '/Users/arturo/Dropbox/Research/Statistics/ML/\\\n",
    "Projects/RAISIN_ML/data/data_PCA/'"
   ]
  },
  {
   "cell_type": "markdown",
   "metadata": {},
   "source": [
    "-----"
   ]
  },
  {
   "cell_type": "markdown",
   "metadata": {},
   "source": [
    "## Automatic"
   ]
  },
  {
   "cell_type": "markdown",
   "metadata": {},
   "source": [
    "### Useful functions"
   ]
  },
  {
   "cell_type": "markdown",
   "metadata": {},
   "source": [
    "Main function to find the peak and trough in the GP LCs"
   ]
  },
  {
   "cell_type": "code",
   "execution_count": 7,
   "metadata": {},
   "outputs": [],
   "source": [
    "def find_peak_trough(lcgp_np, feature, phase_range):\n",
    "    \"\"\"\n",
    "    Function to find the peak or trough in a Gaussian-Process light curve (LC).\n",
    "    By \"find\" I mean to determine the phase, magnitude, err_magnitude, and\n",
    "    index in the array, of the peak or trough.\n",
    "    \n",
    "    - lcgp_np (numpy array with 3 columns): \n",
    "        - column 1: phase\n",
    "        - column 2: magnitude\n",
    "        - column 3: err_magnitude\n",
    "        \n",
    "    - feature (string): Options = ('peak', 'trough').\n",
    "        This parameter helps to define whether use 'min' or 'max' functions to\n",
    "        search for the peaks or the trough, respetively.\n",
    "        If feature='peak' then it is used the 'min' function to search for the\n",
    "        -brightest- magnitude. And if feature='trough' then 'max' function is used\n",
    "        to search for the -dimmest- magnitude in the specified phase range of \n",
    "        the LC.\n",
    "        \n",
    "    - phase_range (list with 2 elements): \n",
    "        \n",
    "    This function works in either normalized, absolute mag, or apparent \n",
    "    magnitude LCs. Also, it works for LCs of any band (e.g, B, V, I, Y, J, H, K)\n",
    "        \n",
    "    \"\"\"\n",
    "    \n",
    "    # Define a numpy array of magnitudes from the specified phase range\n",
    "    mag_search_np = lcgp_np[mytoolsSNe.day2index(phase_range[0]):mytoolsSNe.day2index(phase_range[1]),1]\n",
    "\n",
    "    #---------------------------------------------------\n",
    "    #  Find the peak or trough\n",
    "    \n",
    "    if feature=='peak':\n",
    "        \n",
    "        # Find the -brightest- magnitude in the specified phase range\n",
    "        mag_feat = min(mag_search_np)\n",
    "        \n",
    "        index_feat_int = mag_search_np.argmin()\n",
    "        \n",
    "    if feature=='trough':\n",
    "        \n",
    "        # Find the -dimmest- magnitude in the specified phase range\n",
    "        mag_feat = max(mag_search_np)\n",
    "        \n",
    "        index_feat_int = mag_search_np.argmax()\n",
    "        \n",
    "    #---------------------------------------------------\n",
    "    #  Determine the index, day and e_mag of the feature.\n",
    "        \n",
    "    index_feat = index_feat_int + mytoolsSNe.day2index(phase_range[0])\n",
    "\n",
    "    day_feat = mytoolsSNe.index2day(index_feat)\n",
    "\n",
    "    e_mag_feat = lcgp_np[index_feat][2]\n",
    "    \n",
    "    return np.array([index_feat, day_feat, mag_feat, e_mag_feat])\n"
   ]
  },
  {
   "cell_type": "code",
   "execution_count": 8,
   "metadata": {},
   "outputs": [],
   "source": [
    "##############################################################################80"
   ]
  },
  {
   "cell_type": "markdown",
   "metadata": {},
   "source": [
    "---"
   ]
  },
  {
   "cell_type": "markdown",
   "metadata": {},
   "source": [
    "#### Loop to read and extract the values of peaks and the trough"
   ]
  },
  {
   "cell_type": "code",
   "execution_count": 9,
   "metadata": {},
   "outputs": [],
   "source": [
    "# Features to extract from the GP LC files\n",
    "\n",
    "if band == 'Y':\n",
    "    feature_list = ['peak', 'trough', 'peak']\n",
    "    feature_range = [[-7,0], [8, 20], [20,40]]\n",
    "    \n",
    "elif band == 'J':\n",
    "    feature_list = ['peak', 'trough', 'peak']\n",
    "    feature_range = [[-7,0], [8, 22], [20,40]]\n",
    "    \n",
    "elif band == 'H':\n",
    "    feature_list = ['peak', 'trough', 'peak']\n",
    "    feature_range = [[-7,0], [6, 18], [18,35]]\n",
    "    \n",
    "elif band == 'K':\n",
    "    feature_list = ['peak', 'trough', 'peak']\n",
    "    feature_range = [[-7,0], [7, 19], [18,36]]"
   ]
  },
  {
   "cell_type": "code",
   "execution_count": 10,
   "metadata": {},
   "outputs": [
    {
     "name": "stdout",
     "output_type": "stream",
     "text": [
      "sn1999ee__U_45_B_1_CSP_J_GP_mean_sigma_Filled_norma.dat\n",
      "sn2001bt__B_22_V_2_Others_J_GP_mean_sigma_Filled_norma.dat\n",
      "sn2001cz__B_14_V_1_Others_J_GP_mean_sigma_Filled_norma.dat\n",
      "sn2001el__U_20_B_4_Others_J_GP_mean_sigma_Filled_norma.dat\n",
      "sn2002dj__U_13_B_1_Others_J_GP_mean_sigma_Filled_norma.dat\n",
      "sn2005el__U_55_B_3_CfA_J_GP_mean_sigma_Filled_norma.dat\n",
      "sn2005el_dummytext_CSP_J_GP_mean_sigma_Filled_norma.dat\n",
      "sn2005eq__U_22_B_2_CfA_J_GP_mean_sigma_Filled_norma.dat\n",
      "sn2005eq_dummytext_CSP_J_GP_mean_sigma_Filled_norma.dat\n",
      "sn2005eu__B_16_V_2_CfA_J_GP_mean_sigma_Filled_norma.dat\n",
      "sn2005ki_dummytext_CSP_J_GP_mean_sigma_Filled_norma.dat\n",
      "sn2006ax_dummytext_CSP_J_GP_mean_sigma_Filled_norma.dat\n",
      "sn2006bh_dummytext_CSP_J_GP_mean_sigma_Filled_norma.dat\n",
      "sn2006D__U_24_B_22_CfA_J_GP_mean_sigma_Filled_norma.dat\n",
      "sn2006et_dummytext_CSP_J_GP_mean_sigma_Filled_norma.dat\n",
      "sn2006kf_dummytext_CSP_J_GP_mean_sigma_Filled_norma.dat\n",
      "sn2006le__U_36_B_3_CfA_J_GP_mean_sigma_Filled_norma.dat\n",
      "sn2006lf__U_3_B_24_CfA_J_GP_mean_sigma_Filled_norma.dat\n",
      "sn2007af_dummytext_CSP_J_GP_mean_sigma_Filled_norma.dat\n",
      "sn2007as_dummytext_CSP_J_GP_mean_sigma_Filled_norma.dat\n",
      "sn2007le__B_19_V_2_CfA_J_GP_mean_sigma_Filled_norma.dat\n",
      "sn2007le_dummytext_CSP_J_GP_mean_sigma_Filled_norma.dat\n",
      "sn2008fv__B_10_V_1_Others_J_GP_mean_sigma_Filled_norma.dat\n",
      "sn2008gp_dummytext_CSP_J_GP_mean_sigma_Filled_norma.dat\n",
      "sn2008hv_dummytext_CSP_J_GP_mean_sigma_Filled_norma.dat\n",
      "sn2008Z__U_12_B_24_CfA_J_GP_mean_sigma_Filled_norma.dat\n",
      "sn2009aa_dummytext_CSP_J_GP_mean_sigma_Filled_norma.dat\n",
      "sn2009ag_dummytext_CSP_J_GP_mean_sigma_Filled_norma.dat\n",
      "sn2009an__u_prime__CfA_J_GP_mean_sigma_Filled_norma.dat\n",
      "sn2009Y_dummytext__CSP_J_GP_mean_sigma_Filled_norma.dat\n",
      "sn2011ao__B_16_V_3_CfA_J_GP_mean_sigma_Filled_norma.dat\n",
      "sn2011by__B_38_V_2_CfA_J_GP_mean_sigma_Filled_norma.dat\n",
      "\n",
      "# ---- 32 SNe written ----\n"
     ]
    }
   ],
   "source": [
    "# Loop to read, extract and write the values of peaks and the trough\n",
    "\n",
    "#-----------------------------------------------------------------------------80\n",
    "# Open the text file to write the peaks and trough\n",
    "\n",
    "textfile_1 = open(dir_save_output+'1_lc_features_%s_band.dat'%band,'w')\n",
    "textfile_1.write('#         LC peaks and trough (%s band)\\n'%band)\n",
    "\n",
    "textfile_1.write('#\\n')\n",
    "textfile_1.write('# Gaussian-Processes light-curve files located at:\\n')\n",
    "textfile_1.write('%s\\n'%dirfile)\n",
    "    \n",
    "# Define the header text\n",
    "now = datetime.datetime.now() # Read the time and date right now\n",
    "text_timenow = now.strftime(\"%Y.%m.%d (yyyy.mm.dd); %H:%M hrs.\")\n",
    "text_Date   = '# On date: %s\\n'%text_timenow\n",
    "text_Author = '# Data table created by: %s\\n'%code_created_by\n",
    "text_script = '# Script used: %s (version %s | last update: %s)\\n'%(\n",
    "    code_name, code_version, code_last_update)\n",
    "text_line = '#'+'-'*57 + '60\\n'\n",
    "\n",
    "# Write the header text\n",
    "textfile_1.write(text_line);\n",
    "textfile_1.write(text_Author); textfile_1.write(text_Date); textfile_1.write(text_script);\n",
    "textfile_1.write(text_line);\n",
    "\n",
    "textfile_1.write('#                        1st_peak                               \\\n",
    "trough                                 2nd_peak\\n')\n",
    "\n",
    "textfile_1.write('#sn_name,                index,  day,      mag,       \\\n",
    "e_mag,    index,  day,      mag,        e_mag,   index,  day,      mag,        e_mag,')\n",
    "\n",
    "# textfile_1.close()\n",
    "\n",
    "#-----------------------------------------------------------------------------80\n",
    "\n",
    "count_sn_good = 0\n",
    "\n",
    "for i1 in range(len(list_sne)):\n",
    "\n",
    "    # Read the file name:\n",
    "    sn_filename = str(list_sne['f0'][i1])[2:-1]\n",
    "    print(sn_filename)\n",
    "    \n",
    "    # Upload the data:\n",
    "    GP_data = np.genfromtxt(dirfile+sn_filename)\n",
    "\n",
    "    # Write the supernova name:\n",
    "    textfile_1.write('\\n%s,   '%sn_filename[:22])\n",
    "\n",
    "    # Loop over features to find ('peak', 'trough', 'peak')\n",
    "    for i2 in range(len(feature_list)):\n",
    "\n",
    "        feat_int1 = find_peak_trough(GP_data, feature=feature_list[i2], \n",
    "                     phase_range=feature_range[i2])\n",
    "\n",
    "        index_out = feat_int1[0]\n",
    "        day_out = feat_int1[1]\n",
    "        mag_out = feat_int1[2]\n",
    "        emag_out = feat_int1[3]\n",
    "\n",
    "        textfile_1.write('%-3i,  %5.1f,  %9.5f,  %9.5f,   '%(\n",
    "            index_out, day_out, mag_out, emag_out))\n",
    "        \n",
    "    count_sn_good += 1\n",
    "\n",
    "#---------------------------------------------------------60\n",
    "textfile_1.write('\\n'+text_line);\n",
    "textfile_1.write('# %s SNe in this list.'%count_sn_good)\n",
    "\n",
    "textfile_1.close()\n",
    "print('\\n# ---- %s SNe written ----'%count_sn_good)"
   ]
  },
  {
   "cell_type": "code",
   "execution_count": 11,
   "metadata": {},
   "outputs": [],
   "source": [
    "textfile_1.close(); textfile_1.close(); textfile_1.close(); "
   ]
  },
  {
   "cell_type": "code",
   "execution_count": null,
   "metadata": {},
   "outputs": [],
   "source": []
  },
  {
   "cell_type": "code",
   "execution_count": null,
   "metadata": {},
   "outputs": [],
   "source": []
  },
  {
   "cell_type": "code",
   "execution_count": null,
   "metadata": {},
   "outputs": [],
   "source": []
  }
 ],
 "metadata": {
  "kernelspec": {
   "display_name": "Python 3",
   "language": "python",
   "name": "python3"
  },
  "language_info": {
   "codemirror_mode": {
    "name": "ipython",
    "version": 3
   },
   "file_extension": ".py",
   "mimetype": "text/x-python",
   "name": "python",
   "nbconvert_exporter": "python",
   "pygments_lexer": "ipython3",
   "version": "3.7.3"
  }
 },
 "nbformat": 4,
 "nbformat_minor": 2
}
