{
 "cells": [
  {
   "cell_type": "markdown",
   "metadata": {},
   "source": [
    "# PCA analysis of RAISIN data\n",
    "\n",
    "Python 3.6"
   ]
  },
  {
   "cell_type": "code",
   "execution_count": 4,
   "metadata": {},
   "outputs": [],
   "source": [
    "import pandas as pd\n",
    "import numpy as np\n",
    "import matplotlib.pyplot as plt\n",
    "import seaborn as sb\n",
    "\n",
    "from sklearn.decomposition import PCA\n",
    "\n",
    "#--------------------------------------------------------60\n",
    "code_created_by = 'Arturo_Avelino'\n",
    "# On date: 2019.06.25 (yyyy.mm.dd)\n",
    "code_name = 'PCA_RAISIN.ipynb'\n",
    "code_version = '0.0.1'\n",
    "code_last_update = '2019.06.25'\n",
    "#--------------------------------------------------------60"
   ]
  },
  {
   "cell_type": "code",
   "execution_count": null,
   "metadata": {},
   "outputs": [],
   "source": []
  },
  {
   "cell_type": "code",
   "execution_count": null,
   "metadata": {},
   "outputs": [],
   "source": []
  },
  {
   "cell_type": "code",
   "execution_count": 2,
   "metadata": {},
   "outputs": [],
   "source": [
    "filename = '2_lc_features.csv'\n",
    "dir_file = '/Users/arturo/Dropbox/Research/Statistics/ML/Projects/RAISIN_ML/data/data_PCA/'"
   ]
  },
  {
   "cell_type": "code",
   "execution_count": 3,
   "metadata": {},
   "outputs": [
    {
     "data": {
      "text/html": [
       "<div>\n",
       "<style scoped>\n",
       "    .dataframe tbody tr th:only-of-type {\n",
       "        vertical-align: middle;\n",
       "    }\n",
       "\n",
       "    .dataframe tbody tr th {\n",
       "        vertical-align: top;\n",
       "    }\n",
       "\n",
       "    .dataframe thead th {\n",
       "        text-align: right;\n",
       "    }\n",
       "</style>\n",
       "<table border=\"1\" class=\"dataframe\">\n",
       "  <thead>\n",
       "    <tr style=\"text-align: right;\">\n",
       "      <th></th>\n",
       "      <th>#sn_name</th>\n",
       "      <th>0</th>\n",
       "      <th>5</th>\n",
       "      <th>10</th>\n",
       "      <th>15</th>\n",
       "      <th>20</th>\n",
       "      <th>25</th>\n",
       "      <th>30</th>\n",
       "    </tr>\n",
       "  </thead>\n",
       "  <tbody>\n",
       "    <tr>\n",
       "      <th>0</th>\n",
       "      <td>sn1999ee__U_45_B_1_CSP</td>\n",
       "      <td>-1.5360</td>\n",
       "      <td>-1.1704</td>\n",
       "      <td>-0.4695</td>\n",
       "      <td>0.0</td>\n",
       "      <td>-0.0794</td>\n",
       "      <td>-0.2158</td>\n",
       "      <td>-0.5465</td>\n",
       "    </tr>\n",
       "    <tr>\n",
       "      <th>1</th>\n",
       "      <td>sn2001bt__B_22_V_2_Oth</td>\n",
       "      <td>-1.6340</td>\n",
       "      <td>-0.8131</td>\n",
       "      <td>-0.1326</td>\n",
       "      <td>0.0</td>\n",
       "      <td>-0.2271</td>\n",
       "      <td>-0.5789</td>\n",
       "      <td>-0.4903</td>\n",
       "    </tr>\n",
       "    <tr>\n",
       "      <th>2</th>\n",
       "      <td>sn2001cz__B_14_V_1_Oth</td>\n",
       "      <td>-1.9280</td>\n",
       "      <td>-1.3097</td>\n",
       "      <td>-0.5299</td>\n",
       "      <td>0.0</td>\n",
       "      <td>0.0171</td>\n",
       "      <td>-0.4436</td>\n",
       "      <td>-0.7789</td>\n",
       "    </tr>\n",
       "    <tr>\n",
       "      <th>3</th>\n",
       "      <td>sn2001el__U_20_B_4_Oth</td>\n",
       "      <td>-1.3553</td>\n",
       "      <td>-1.0451</td>\n",
       "      <td>-0.3014</td>\n",
       "      <td>0.0</td>\n",
       "      <td>-0.1540</td>\n",
       "      <td>-0.1904</td>\n",
       "      <td>-0.3663</td>\n",
       "    </tr>\n",
       "    <tr>\n",
       "      <th>4</th>\n",
       "      <td>sn2002dj__U_13_B_1_Oth</td>\n",
       "      <td>-1.6110</td>\n",
       "      <td>-0.9144</td>\n",
       "      <td>-0.0548</td>\n",
       "      <td>0.0</td>\n",
       "      <td>-0.2259</td>\n",
       "      <td>-0.3782</td>\n",
       "      <td>-0.5371</td>\n",
       "    </tr>\n",
       "  </tbody>\n",
       "</table>\n",
       "</div>"
      ],
      "text/plain": [
       "                 #sn_name       0       5      10   15      20      25      30\n",
       "0  sn1999ee__U_45_B_1_CSP -1.5360 -1.1704 -0.4695  0.0 -0.0794 -0.2158 -0.5465\n",
       "1  sn2001bt__B_22_V_2_Oth -1.6340 -0.8131 -0.1326  0.0 -0.2271 -0.5789 -0.4903\n",
       "2  sn2001cz__B_14_V_1_Oth -1.9280 -1.3097 -0.5299  0.0  0.0171 -0.4436 -0.7789\n",
       "3  sn2001el__U_20_B_4_Oth -1.3553 -1.0451 -0.3014  0.0 -0.1540 -0.1904 -0.3663\n",
       "4  sn2002dj__U_13_B_1_Oth -1.6110 -0.9144 -0.0548  0.0 -0.2259 -0.3782 -0.5371"
      ]
     },
     "execution_count": 3,
     "metadata": {},
     "output_type": "execute_result"
    }
   ],
   "source": [
    "lc_features_pd = pd.read_csv(dir_file+filename)\n",
    "lc_features_pd.head()"
   ]
  },
  {
   "cell_type": "code",
   "execution_count": 8,
   "metadata": {},
   "outputs": [],
   "source": [
    "xx = np.array(lc_features_pd.drop(['#sn_name'], axis=1))"
   ]
  },
  {
   "cell_type": "code",
   "execution_count": 9,
   "metadata": {},
   "outputs": [
    {
     "data": {
      "text/plain": [
       "array([[-1.536 , -1.1704, -0.4695,  0.    , -0.0794, -0.2158, -0.5465],\n",
       "       [-1.634 , -0.8131, -0.1326,  0.    , -0.2271, -0.5789, -0.4903],\n",
       "       [-1.928 , -1.3097, -0.5299,  0.    ,  0.0171, -0.4436, -0.7789]])"
      ]
     },
     "execution_count": 9,
     "metadata": {},
     "output_type": "execute_result"
    }
   ],
   "source": [
    "xx[:3]"
   ]
  },
  {
   "cell_type": "code",
   "execution_count": null,
   "metadata": {},
   "outputs": [],
   "source": []
  },
  {
   "cell_type": "code",
   "execution_count": 5,
   "metadata": {},
   "outputs": [],
   "source": [
    "# n_components specifies the new dimensionality\n",
    "\n",
    "pca = PCA(n_components=2)"
   ]
  },
  {
   "cell_type": "code",
   "execution_count": 10,
   "metadata": {},
   "outputs": [],
   "source": [
    "x_reduced = pca.fit(xx).transform(xx)"
   ]
  },
  {
   "cell_type": "code",
   "execution_count": 12,
   "metadata": {},
   "outputs": [
    {
     "data": {
      "text/html": [
       "<div>\n",
       "<style scoped>\n",
       "    .dataframe tbody tr th:only-of-type {\n",
       "        vertical-align: middle;\n",
       "    }\n",
       "\n",
       "    .dataframe tbody tr th {\n",
       "        vertical-align: top;\n",
       "    }\n",
       "\n",
       "    .dataframe thead th {\n",
       "        text-align: right;\n",
       "    }\n",
       "</style>\n",
       "<table border=\"1\" class=\"dataframe\">\n",
       "  <thead>\n",
       "    <tr style=\"text-align: right;\">\n",
       "      <th></th>\n",
       "      <th>x</th>\n",
       "      <th>y</th>\n",
       "    </tr>\n",
       "  </thead>\n",
       "  <tbody>\n",
       "    <tr>\n",
       "      <th>0</th>\n",
       "      <td>-0.245081</td>\n",
       "      <td>-0.234872</td>\n",
       "    </tr>\n",
       "    <tr>\n",
       "      <th>1</th>\n",
       "      <td>0.197665</td>\n",
       "      <td>0.102380</td>\n",
       "    </tr>\n",
       "    <tr>\n",
       "      <th>2</th>\n",
       "      <td>-0.563410</td>\n",
       "      <td>0.087893</td>\n",
       "    </tr>\n",
       "    <tr>\n",
       "      <th>3</th>\n",
       "      <td>0.064510</td>\n",
       "      <td>-0.320375</td>\n",
       "    </tr>\n",
       "    <tr>\n",
       "      <th>4</th>\n",
       "      <td>0.141253</td>\n",
       "      <td>-0.003975</td>\n",
       "    </tr>\n",
       "  </tbody>\n",
       "</table>\n",
       "</div>"
      ],
      "text/plain": [
       "          x         y\n",
       "0 -0.245081 -0.234872\n",
       "1  0.197665  0.102380\n",
       "2 -0.563410  0.087893\n",
       "3  0.064510 -0.320375\n",
       "4  0.141253 -0.003975"
      ]
     },
     "execution_count": 12,
     "metadata": {},
     "output_type": "execute_result"
    }
   ],
   "source": [
    "x_reduced_pd = pd.DataFrame(data=x_reduced, columns=['x','y'])\n",
    "x_reduced_pd.head()"
   ]
  },
  {
   "cell_type": "code",
   "execution_count": 14,
   "metadata": {},
   "outputs": [
    {
     "name": "stdout",
     "output_type": "stream",
     "text": [
      "#- Eigenvectors: [[ 0.18955363  0.48891406  0.50641991 -0.         -0.28732646 -0.10794812\n",
      "   0.61185133]\n",
      " [-0.37753943 -0.17688344  0.14758224 -0.         -0.5303814  -0.68446215\n",
      "  -0.23367249]]\n",
      "\n",
      "#- Explained Variance: [0.15357386 0.06909698]\n",
      "\n",
      "#- Explained Variance Ratio: [0.60795251 0.27353407]\n"
     ]
    }
   ],
   "source": [
    "print('#- Eigenvectors:', pca.components_)\n",
    "print('')\n",
    "print('#- Explained Variance:', pca.explained_variance_)\n",
    "print('')\n",
    "print('#- Explained Variance Ratio:', pca.explained_variance_ratio_ )"
   ]
  },
  {
   "cell_type": "code",
   "execution_count": null,
   "metadata": {},
   "outputs": [],
   "source": []
  },
  {
   "cell_type": "code",
   "execution_count": 19,
   "metadata": {},
   "outputs": [
    {
     "data": {
      "text/plain": [
       "<matplotlib.axes._subplots.AxesSubplot at 0x1a211eba90>"
      ]
     },
     "execution_count": 19,
     "metadata": {},
     "output_type": "execute_result"
    },
    {
     "data": {
      "image/png": "[encoded data removed]",
      "text/plain": [
       "<Figure size 432x288 with 1 Axes>"
      ]
     },
     "metadata": {
      "needs_background": "light"
     },
     "output_type": "display_data"
    }
   ],
   "source": [
    "%matplotlib inline\n",
    "sb.scatterplot(x='x', y='y',data=x_reduced_pd)"
   ]
  },
  {
   "cell_type": "code",
   "execution_count": null,
   "metadata": {},
   "outputs": [],
   "source": []
  }
 ],
 "metadata": {
  "kernelspec": {
   "display_name": "Python 3",
   "language": "python",
   "name": "python3"
  },
  "language_info": {
   "codemirror_mode": {
    "name": "ipython",
    "version": 3
   },
   "file_extension": ".py",
   "mimetype": "text/x-python",
   "name": "python",
   "nbconvert_exporter": "python",
   "pygments_lexer": "ipython3",
   "version": "3.7.1"
  }
 },
 "nbformat": 4,
 "nbformat_minor": 2
}
